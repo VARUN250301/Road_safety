{
 "cells": [
  {
   "cell_type": "code",
   "execution_count": 26,
   "id": "d789e394",
   "metadata": {},
   "outputs": [],
   "source": [
    "#import the necessary Libraries\n",
    "import pandas as pd\n",
    "import numpy as np\n",
    "import matplotlib.pyplot as plt\n",
    "import seaborn as sns\n",
    "import time\n",
    "from collections import Counter\n",
    "from imblearn.over_sampling import SMOTE\n",
    "import matplotlib.ticker as ticker\n",
    "from sklearn.model_selection import train_test_split\n",
    "from sklearn.preprocessing import StandardScaler,MinMaxScaler,LabelEncoder\n",
    "from sklearn.pipeline import Pipeline\n",
    "from sklearn.model_selection import RepeatedStratifiedKFold,GridSearchCV\n",
    "from sklearn.linear_model import LogisticRegression\n",
    "from sklearn.tree import DecisionTreeClassifier\n",
    "from sklearn.svm import SVC\n",
    "from sklearn.neighbors import KNeighborsClassifier\n",
    "from sklearn.naive_bayes import GaussianNB\n",
    "from sklearn.ensemble import RandomForestClassifier,AdaBoostClassifier,GradientBoostingClassifier\n",
    "from sklearn.metrics import accuracy_score,classification_report,confusion_matrix\n",
    "from sklearn.model_selection import KFold # import KFold\n",
    "import warnings\n",
    "warnings.filterwarnings('ignore')\n",
    "%matplotlib inline"
   ]
  },
  {
   "cell_type": "code",
   "execution_count": 27,
   "id": "950003d9",
   "metadata": {},
   "outputs": [],
   "source": [
    "df = pd.read_csv(\"RTA Dataset.csv\")"
   ]
  },
  {
   "cell_type": "code",
   "execution_count": 28,
   "id": "778af232",
   "metadata": {},
   "outputs": [],
   "source": [
    "# convert the 'Date' column to datetime format\n",
    "df['Time']= pd.to_datetime(df['Time'])"
   ]
  },
  {
   "cell_type": "code",
   "execution_count": 29,
   "id": "898c4f52",
   "metadata": {},
   "outputs": [],
   "source": [
    "# dropping columns that can cause imbalance while imputation\n",
    "lists=['Vehicle_driver_relation', 'Work_of_casuality', 'Fitness_of_casuality','Day_of_week','Casualty_severity','Time','Sex_of_driver','Educational_level','Defect_of_vehicle','Owner_of_vehicle','Service_year_of_vehicle', 'Road_surface_type','Sex_of_casualty']\n",
    "df.drop(columns = lists, inplace=True)"
   ]
  },
  {
   "cell_type": "code",
   "execution_count": 30,
   "id": "41507b7b",
   "metadata": {},
   "outputs": [
    {
     "data": {
      "text/plain": [
       "(12316, 19)"
      ]
     },
     "execution_count": 30,
     "metadata": {},
     "output_type": "execute_result"
    }
   ],
   "source": [
    "df.shape"
   ]
  },
  {
   "cell_type": "code",
   "execution_count": 31,
   "id": "be74bfe9",
   "metadata": {},
   "outputs": [],
   "source": [
    "# fill missing values with mean column values\n",
    "df['Driving_experience'].fillna(df['Driving_experience'].mode()[0], inplace=True)\n",
    "df['Age_band_of_driver'].fillna(df['Age_band_of_driver'].mode()[0], inplace=True)\n",
    "df['Type_of_vehicle'].fillna(df['Type_of_vehicle'].mode()[0], inplace=True)\n",
    "df['Area_accident_occured'].fillna(df['Area_accident_occured'].mode()[0], inplace=True)\n",
    "df['Road_allignment'].fillna(df['Road_allignment'].mode()[0], inplace=True)\n",
    "df['Type_of_collision'].fillna(df['Type_of_collision'].mode()[0], inplace=True)\n",
    "df['Vehicle_movement'].fillna(df['Vehicle_movement'].mode()[0], inplace=True)\n",
    "df['Lanes_or_Medians'].fillna(df['Lanes_or_Medians'].mode()[0], inplace=True)\n",
    "df['Types_of_Junction'].fillna(df['Types_of_Junction'].mode()[0], inplace=True)"
   ]
  },
  {
   "cell_type": "code",
   "execution_count": 32,
   "id": "1d4afce9",
   "metadata": {},
   "outputs": [
    {
     "data": {
      "text/plain": [
       "Age_band_of_driver             0\n",
       "Driving_experience             0\n",
       "Type_of_vehicle                0\n",
       "Area_accident_occured          0\n",
       "Lanes_or_Medians               0\n",
       "Road_allignment                0\n",
       "Types_of_Junction              0\n",
       "Road_surface_conditions        0\n",
       "Light_conditions               0\n",
       "Weather_conditions             0\n",
       "Type_of_collision              0\n",
       "Number_of_vehicles_involved    0\n",
       "Number_of_casualties           0\n",
       "Vehicle_movement               0\n",
       "Casualty_class                 0\n",
       "Age_band_of_casualty           0\n",
       "Pedestrian_movement            0\n",
       "Cause_of_accident              0\n",
       "Accident_severity              0\n",
       "dtype: int64"
      ]
     },
     "execution_count": 32,
     "metadata": {},
     "output_type": "execute_result"
    }
   ],
   "source": [
    "df.isnull().sum()"
   ]
  },
  {
   "cell_type": "code",
   "execution_count": 33,
   "id": "6152ea21",
   "metadata": {},
   "outputs": [
    {
     "name": "stdout",
     "output_type": "stream",
     "text": [
      "Class 0: 10415\n",
      "Class 1: 1743\n",
      "Proportion: 5.98 : 1\n"
     ]
    },
    {
     "data": {
      "image/png": "[encoded data removed]",
      "text/plain": [
       "<Figure size 432x288 with 1 Axes>"
      ]
     },
     "metadata": {
      "needs_background": "light"
     },
     "output_type": "display_data"
    }
   ],
   "source": [
    "target_count = df['Accident_severity'].value_counts()\n",
    "print('Class 0:', target_count[0])\n",
    "print('Class 1:', target_count[1])\n",
    "print('Proportion:', round(target_count[0] / target_count[1], 2), ': 1')\n",
    "\n",
    "target_count.plot(kind='bar', title='Count (target)');"
   ]
  },
  {
   "cell_type": "code",
   "execution_count": 34,
   "id": "c1a69223",
   "metadata": {},
   "outputs": [],
   "source": [
    "from sklearn.preprocessing import LabelEncoder           #or one hot encoder\n",
    "LE = LabelEncoder()\n",
    "df=df.apply(LE.fit_transform)                            #categorical values to integers"
   ]
  },
  {
   "cell_type": "code",
   "execution_count": 35,
   "id": "113b9ebe",
   "metadata": {},
   "outputs": [],
   "source": [
    "for col in df.select_dtypes(include='object'):\n",
    "    if df[col].nunique() <= 22:\n",
    "        sns.countplot(y=col, data=df)\n",
    "        plt.show()"
   ]
  },
  {
   "cell_type": "code",
   "execution_count": 36,
   "id": "64a7ebfc",
   "metadata": {},
   "outputs": [
    {
     "name": "stdout",
     "output_type": "stream",
     "text": [
      "(8621, 18) (3695, 18) (8621,) (3695,)\n"
     ]
    }
   ],
   "source": [
    "x = df.drop('Accident_severity', axis=1)\n",
    "y = df['Accident_severity']\n",
    "\n",
    "xtrain, xtest, ytrain, ytest = train_test_split(x, y, test_size=0.3, random_state=42)\n",
    "print(xtrain.shape, xtest.shape, ytrain.shape, ytest.shape)"
   ]
  },
  {
   "cell_type": "code",
   "execution_count": 37,
   "id": "3c979739",
   "metadata": {},
   "outputs": [
    {
     "data": {
      "text/html": [
       "<div>\n",
       "<style scoped>\n",
       "    .dataframe tbody tr th:only-of-type {\n",
       "        vertical-align: middle;\n",
       "    }\n",
       "\n",
       "    .dataframe tbody tr th {\n",
       "        vertical-align: top;\n",
       "    }\n",
       "\n",
       "    .dataframe thead th {\n",
       "        text-align: right;\n",
       "    }\n",
       "</style>\n",
       "<table border=\"1\" class=\"dataframe\">\n",
       "  <thead>\n",
       "    <tr style=\"text-align: right;\">\n",
       "      <th></th>\n",
       "      <th>Age_band_of_driver</th>\n",
       "      <th>Driving_experience</th>\n",
       "      <th>Type_of_vehicle</th>\n",
       "      <th>Area_accident_occured</th>\n",
       "      <th>Lanes_or_Medians</th>\n",
       "      <th>Road_allignment</th>\n",
       "      <th>Types_of_Junction</th>\n",
       "      <th>Road_surface_conditions</th>\n",
       "      <th>Light_conditions</th>\n",
       "      <th>Weather_conditions</th>\n",
       "      <th>Type_of_collision</th>\n",
       "      <th>Number_of_vehicles_involved</th>\n",
       "      <th>Number_of_casualties</th>\n",
       "      <th>Vehicle_movement</th>\n",
       "      <th>Casualty_class</th>\n",
       "      <th>Age_band_of_casualty</th>\n",
       "      <th>Pedestrian_movement</th>\n",
       "      <th>Cause_of_accident</th>\n",
       "    </tr>\n",
       "  </thead>\n",
       "  <tbody>\n",
       "    <tr>\n",
       "      <th>4759</th>\n",
       "      <td>1</td>\n",
       "      <td>0</td>\n",
       "      <td>0</td>\n",
       "      <td>7</td>\n",
       "      <td>4</td>\n",
       "      <td>5</td>\n",
       "      <td>1</td>\n",
       "      <td>0</td>\n",
       "      <td>3</td>\n",
       "      <td>2</td>\n",
       "      <td>2</td>\n",
       "      <td>1</td>\n",
       "      <td>0</td>\n",
       "      <td>1</td>\n",
       "      <td>2</td>\n",
       "      <td>1</td>\n",
       "      <td>5</td>\n",
       "      <td>0</td>\n",
       "    </tr>\n",
       "    <tr>\n",
       "      <th>5676</th>\n",
       "      <td>1</td>\n",
       "      <td>4</td>\n",
       "      <td>14</td>\n",
       "      <td>7</td>\n",
       "      <td>2</td>\n",
       "      <td>5</td>\n",
       "      <td>1</td>\n",
       "      <td>0</td>\n",
       "      <td>3</td>\n",
       "      <td>2</td>\n",
       "      <td>8</td>\n",
       "      <td>1</td>\n",
       "      <td>0</td>\n",
       "      <td>2</td>\n",
       "      <td>0</td>\n",
       "      <td>0</td>\n",
       "      <td>5</td>\n",
       "      <td>16</td>\n",
       "    </tr>\n",
       "    <tr>\n",
       "      <th>353</th>\n",
       "      <td>4</td>\n",
       "      <td>0</td>\n",
       "      <td>7</td>\n",
       "      <td>7</td>\n",
       "      <td>2</td>\n",
       "      <td>5</td>\n",
       "      <td>0</td>\n",
       "      <td>0</td>\n",
       "      <td>0</td>\n",
       "      <td>2</td>\n",
       "      <td>2</td>\n",
       "      <td>1</td>\n",
       "      <td>0</td>\n",
       "      <td>2</td>\n",
       "      <td>0</td>\n",
       "      <td>0</td>\n",
       "      <td>5</td>\n",
       "      <td>3</td>\n",
       "    </tr>\n",
       "    <tr>\n",
       "      <th>6223</th>\n",
       "      <td>1</td>\n",
       "      <td>2</td>\n",
       "      <td>9</td>\n",
       "      <td>7</td>\n",
       "      <td>4</td>\n",
       "      <td>5</td>\n",
       "      <td>7</td>\n",
       "      <td>0</td>\n",
       "      <td>0</td>\n",
       "      <td>2</td>\n",
       "      <td>8</td>\n",
       "      <td>1</td>\n",
       "      <td>0</td>\n",
       "      <td>2</td>\n",
       "      <td>0</td>\n",
       "      <td>0</td>\n",
       "      <td>5</td>\n",
       "      <td>1</td>\n",
       "    </tr>\n",
       "    <tr>\n",
       "      <th>456</th>\n",
       "      <td>3</td>\n",
       "      <td>1</td>\n",
       "      <td>0</td>\n",
       "      <td>2</td>\n",
       "      <td>2</td>\n",
       "      <td>5</td>\n",
       "      <td>0</td>\n",
       "      <td>3</td>\n",
       "      <td>3</td>\n",
       "      <td>2</td>\n",
       "      <td>2</td>\n",
       "      <td>3</td>\n",
       "      <td>5</td>\n",
       "      <td>2</td>\n",
       "      <td>0</td>\n",
       "      <td>1</td>\n",
       "      <td>5</td>\n",
       "      <td>12</td>\n",
       "    </tr>\n",
       "  </tbody>\n",
       "</table>\n",
       "</div>"
      ],
      "text/plain": [
       "      Age_band_of_driver  Driving_experience  Type_of_vehicle  \\\n",
       "4759                   1                   0                0   \n",
       "5676                   1                   4               14   \n",
       "353                    4                   0                7   \n",
       "6223                   1                   2                9   \n",
       "456                    3                   1                0   \n",
       "\n",
       "      Area_accident_occured  Lanes_or_Medians  Road_allignment  \\\n",
       "4759                      7                 4                5   \n",
       "5676                      7                 2                5   \n",
       "353                       7                 2                5   \n",
       "6223                      7                 4                5   \n",
       "456                       2                 2                5   \n",
       "\n",
       "      Types_of_Junction  Road_surface_conditions  Light_conditions  \\\n",
       "4759                  1                        0                 3   \n",
       "5676                  1                        0                 3   \n",
       "353                   0                        0                 0   \n",
       "6223                  7                        0                 0   \n",
       "456                   0                        3                 3   \n",
       "\n",
       "      Weather_conditions  Type_of_collision  Number_of_vehicles_involved  \\\n",
       "4759                   2                  2                            1   \n",
       "5676                   2                  8                            1   \n",
       "353                    2                  2                            1   \n",
       "6223                   2                  8                            1   \n",
       "456                    2                  2                            3   \n",
       "\n",
       "      Number_of_casualties  Vehicle_movement  Casualty_class  \\\n",
       "4759                     0                 1               2   \n",
       "5676                     0                 2               0   \n",
       "353                      0                 2               0   \n",
       "6223                     0                 2               0   \n",
       "456                      5                 2               0   \n",
       "\n",
       "      Age_band_of_casualty  Pedestrian_movement  Cause_of_accident  \n",
       "4759                     1                    5                  0  \n",
       "5676                     0                    5                 16  \n",
       "353                      0                    5                  3  \n",
       "6223                     0                    5                  1  \n",
       "456                      1                    5                 12  "
      ]
     },
     "execution_count": 37,
     "metadata": {},
     "output_type": "execute_result"
    }
   ],
   "source": [
    "xtrain.head()"
   ]
  },
  {
   "cell_type": "code",
   "execution_count": 38,
   "id": "e5bb4e26",
   "metadata": {},
   "outputs": [
    {
     "name": "stdout",
     "output_type": "stream",
     "text": [
      "=============================\n",
      "Class= 2, n=7324 (84.96%)\n",
      "Class= 1, n=1191 (13.82%)\n",
      "Class= 0, n=106 (1.23%)\n",
      "=============================\n",
      "Class= 2, n=7324 (33.33%)\n",
      "Class= 1, n=7324 (33.33%)\n",
      "Class= 0, n=7324 (33.33%)\n",
      "=============================\n",
      "Upsampled data shape:  (21972, 18) (21972,)\n"
     ]
    }
   ],
   "source": [
    "# upsampling using smote\n",
    "\n",
    "counter = Counter(ytrain)\n",
    "\n",
    "print(\"=============================\")\n",
    "\n",
    "for k,v in counter.items():\n",
    "    per = 100*v/len(ytrain)\n",
    "    print(f\"Class= {k}, n={v} ({per:.2f}%)\")\n",
    "\n",
    "oversample = SMOTE()\n",
    "xtrain, ytrain = oversample.fit_resample(xtrain, ytrain)\n",
    "\n",
    "counter = Counter(ytrain)\n",
    "\n",
    "print(\"=============================\")\n",
    "\n",
    "for k,v in counter.items():\n",
    "    per = 100*v/len(ytrain)\n",
    "    print(f\"Class= {k}, n={v} ({per:.2f}%)\")\n",
    "\n",
    "print(\"=============================\")\n",
    "\n",
    "print(\"Upsampled data shape: \", xtrain.shape, ytrain.shape)\n"
   ]
  },
  {
   "cell_type": "code",
   "execution_count": 39,
   "id": "fbeb38df",
   "metadata": {},
   "outputs": [
    {
     "data": {
      "text/plain": [
       "0    2\n",
       "1    1\n",
       "2    1\n",
       "3    2\n",
       "4    1\n",
       "Name: Accident_severity, dtype: int32"
      ]
     },
     "execution_count": 39,
     "metadata": {},
     "output_type": "execute_result"
    }
   ],
   "source": [
    "ytrain.head()"
   ]
  },
  {
   "cell_type": "code",
   "execution_count": 40,
   "id": "49c51f45",
   "metadata": {},
   "outputs": [],
   "source": [
    "x=df.drop(columns=[\"Accident_severity\"])\n",
    "y=df[\"Accident_severity\"]"
   ]
  },
  {
   "cell_type": "code",
   "execution_count": 68,
   "id": "ae3a5571",
   "metadata": {},
   "outputs": [],
   "source": [
    "clf = RandomForestClassifier(criterion = \"gini\", max_depth = 32, min_samples_split = 10, random_state = 42)"
   ]
  },
  {
   "cell_type": "code",
   "execution_count": 69,
   "id": "1881b766",
   "metadata": {},
   "outputs": [
    {
     "data": {
      "text/plain": [
       "RandomForestClassifier(max_depth=32, min_samples_split=10, random_state=42)"
      ]
     },
     "execution_count": 69,
     "metadata": {},
     "output_type": "execute_result"
    }
   ],
   "source": [
    "clf.fit(xtrain, ytrain)"
   ]
  },
  {
   "cell_type": "code",
   "execution_count": 70,
   "id": "e7c80aa5",
   "metadata": {},
   "outputs": [
    {
     "data": {
      "text/plain": [
       "array([0.07000985, 0.0634714 , 0.0801076 , 0.0718721 , 0.0651205 ,\n",
       "       0.02471927, 0.06050879, 0.04405914, 0.07913241, 0.02523424,\n",
       "       0.04693692, 0.06944323, 0.05554691, 0.04656804, 0.03490718,\n",
       "       0.05067063, 0.01430039, 0.09739141])"
      ]
     },
     "execution_count": 70,
     "metadata": {},
     "output_type": "execute_result"
    }
   ],
   "source": [
    "clf.feature_importances_"
   ]
  },
  {
   "cell_type": "code",
   "execution_count": 71,
   "id": "2c7200cf",
   "metadata": {},
   "outputs": [
    {
     "data": {
      "text/plain": [
       "Index(['Age_band_of_driver', 'Driving_experience', 'Type_of_vehicle',\n",
       "       'Area_accident_occured', 'Lanes_or_Medians', 'Road_allignment',\n",
       "       'Types_of_Junction', 'Road_surface_conditions', 'Light_conditions',\n",
       "       'Weather_conditions', 'Type_of_collision',\n",
       "       'Number_of_vehicles_involved', 'Number_of_casualties',\n",
       "       'Vehicle_movement', 'Casualty_class', 'Age_band_of_casualty',\n",
       "       'Pedestrian_movement', 'Cause_of_accident', 'Accident_severity'],\n",
       "      dtype='object')"
      ]
     },
     "execution_count": 71,
     "metadata": {},
     "output_type": "execute_result"
    }
   ],
   "source": [
    "df.columns"
   ]
  },
  {
   "cell_type": "code",
   "execution_count": 72,
   "id": "19e8960d",
   "metadata": {},
   "outputs": [],
   "source": [
    "ypred = clf.predict(xtest)"
   ]
  },
  {
   "cell_type": "code",
   "execution_count": 73,
   "id": "d2236188",
   "metadata": {},
   "outputs": [
    {
     "data": {
      "text/plain": [
       "array([2, 2, 1, ..., 2, 2, 2])"
      ]
     },
     "execution_count": 73,
     "metadata": {},
     "output_type": "execute_result"
    }
   ],
   "source": [
    "ypred"
   ]
  },
  {
   "cell_type": "code",
   "execution_count": 74,
   "id": "c6b4373f",
   "metadata": {},
   "outputs": [
    {
     "data": {
      "text/plain": [
       "array([[   2,   10,   40],\n",
       "       [   4,  119,  429],\n",
       "       [  19,  405, 2667]], dtype=int64)"
      ]
     },
     "execution_count": 74,
     "metadata": {},
     "output_type": "execute_result"
    }
   ],
   "source": [
    "confusion_matrix(ytest, ypred)"
   ]
  },
  {
   "cell_type": "code",
   "execution_count": 75,
   "id": "6e095fa8",
   "metadata": {},
   "outputs": [],
   "source": [
    "from sklearn.metrics import accuracy_score"
   ]
  },
  {
   "cell_type": "code",
   "execution_count": 76,
   "id": "6cdaef09",
   "metadata": {},
   "outputs": [
    {
     "data": {
      "text/plain": [
       "0.754533152909337"
      ]
     },
     "execution_count": 76,
     "metadata": {},
     "output_type": "execute_result"
    }
   ],
   "source": [
    "accuracy_score(ytest, ypred)"
   ]
  },
  {
   "cell_type": "code",
   "execution_count": 77,
   "id": "122249ca",
   "metadata": {},
   "outputs": [
    {
     "data": {
      "text/html": [
       "<div>\n",
       "<style scoped>\n",
       "    .dataframe tbody tr th:only-of-type {\n",
       "        vertical-align: middle;\n",
       "    }\n",
       "\n",
       "    .dataframe tbody tr th {\n",
       "        vertical-align: top;\n",
       "    }\n",
       "\n",
       "    .dataframe thead th {\n",
       "        text-align: right;\n",
       "    }\n",
       "</style>\n",
       "<table border=\"1\" class=\"dataframe\">\n",
       "  <thead>\n",
       "    <tr style=\"text-align: right;\">\n",
       "      <th></th>\n",
       "      <th>Age_band_of_driver</th>\n",
       "      <th>Driving_experience</th>\n",
       "      <th>Type_of_vehicle</th>\n",
       "      <th>Area_accident_occured</th>\n",
       "      <th>Lanes_or_Medians</th>\n",
       "      <th>Road_allignment</th>\n",
       "      <th>Types_of_Junction</th>\n",
       "      <th>Road_surface_conditions</th>\n",
       "      <th>Light_conditions</th>\n",
       "      <th>Weather_conditions</th>\n",
       "      <th>Type_of_collision</th>\n",
       "      <th>Number_of_vehicles_involved</th>\n",
       "      <th>Number_of_casualties</th>\n",
       "      <th>Vehicle_movement</th>\n",
       "      <th>Casualty_class</th>\n",
       "      <th>Age_band_of_casualty</th>\n",
       "      <th>Pedestrian_movement</th>\n",
       "      <th>Cause_of_accident</th>\n",
       "    </tr>\n",
       "  </thead>\n",
       "  <tbody>\n",
       "    <tr>\n",
       "      <th>0</th>\n",
       "      <td>0</td>\n",
       "      <td>0</td>\n",
       "      <td>0</td>\n",
       "      <td>9</td>\n",
       "      <td>2</td>\n",
       "      <td>5</td>\n",
       "      <td>1</td>\n",
       "      <td>0</td>\n",
       "      <td>3</td>\n",
       "      <td>2</td>\n",
       "      <td>3</td>\n",
       "      <td>1</td>\n",
       "      <td>1</td>\n",
       "      <td>2</td>\n",
       "      <td>3</td>\n",
       "      <td>5</td>\n",
       "      <td>5</td>\n",
       "      <td>9</td>\n",
       "    </tr>\n",
       "    <tr>\n",
       "      <th>1</th>\n",
       "      <td>1</td>\n",
       "      <td>3</td>\n",
       "      <td>11</td>\n",
       "      <td>6</td>\n",
       "      <td>4</td>\n",
       "      <td>5</td>\n",
       "      <td>1</td>\n",
       "      <td>0</td>\n",
       "      <td>3</td>\n",
       "      <td>2</td>\n",
       "      <td>8</td>\n",
       "      <td>1</td>\n",
       "      <td>1</td>\n",
       "      <td>2</td>\n",
       "      <td>3</td>\n",
       "      <td>5</td>\n",
       "      <td>5</td>\n",
       "      <td>16</td>\n",
       "    </tr>\n",
       "    <tr>\n",
       "      <th>2</th>\n",
       "      <td>0</td>\n",
       "      <td>0</td>\n",
       "      <td>5</td>\n",
       "      <td>1</td>\n",
       "      <td>6</td>\n",
       "      <td>5</td>\n",
       "      <td>1</td>\n",
       "      <td>0</td>\n",
       "      <td>3</td>\n",
       "      <td>2</td>\n",
       "      <td>2</td>\n",
       "      <td>1</td>\n",
       "      <td>1</td>\n",
       "      <td>2</td>\n",
       "      <td>0</td>\n",
       "      <td>1</td>\n",
       "      <td>5</td>\n",
       "      <td>0</td>\n",
       "    </tr>\n",
       "    <tr>\n",
       "      <th>3</th>\n",
       "      <td>0</td>\n",
       "      <td>2</td>\n",
       "      <td>11</td>\n",
       "      <td>6</td>\n",
       "      <td>6</td>\n",
       "      <td>6</td>\n",
       "      <td>7</td>\n",
       "      <td>0</td>\n",
       "      <td>0</td>\n",
       "      <td>2</td>\n",
       "      <td>8</td>\n",
       "      <td>1</td>\n",
       "      <td>1</td>\n",
       "      <td>2</td>\n",
       "      <td>2</td>\n",
       "      <td>0</td>\n",
       "      <td>5</td>\n",
       "      <td>1</td>\n",
       "    </tr>\n",
       "    <tr>\n",
       "      <th>4</th>\n",
       "      <td>0</td>\n",
       "      <td>1</td>\n",
       "      <td>0</td>\n",
       "      <td>4</td>\n",
       "      <td>6</td>\n",
       "      <td>5</td>\n",
       "      <td>7</td>\n",
       "      <td>0</td>\n",
       "      <td>0</td>\n",
       "      <td>2</td>\n",
       "      <td>8</td>\n",
       "      <td>1</td>\n",
       "      <td>1</td>\n",
       "      <td>2</td>\n",
       "      <td>3</td>\n",
       "      <td>5</td>\n",
       "      <td>5</td>\n",
       "      <td>16</td>\n",
       "    </tr>\n",
       "  </tbody>\n",
       "</table>\n",
       "</div>"
      ],
      "text/plain": [
       "   Age_band_of_driver  Driving_experience  Type_of_vehicle  \\\n",
       "0                   0                   0                0   \n",
       "1                   1                   3               11   \n",
       "2                   0                   0                5   \n",
       "3                   0                   2               11   \n",
       "4                   0                   1                0   \n",
       "\n",
       "   Area_accident_occured  Lanes_or_Medians  Road_allignment  \\\n",
       "0                      9                 2                5   \n",
       "1                      6                 4                5   \n",
       "2                      1                 6                5   \n",
       "3                      6                 6                6   \n",
       "4                      4                 6                5   \n",
       "\n",
       "   Types_of_Junction  Road_surface_conditions  Light_conditions  \\\n",
       "0                  1                        0                 3   \n",
       "1                  1                        0                 3   \n",
       "2                  1                        0                 3   \n",
       "3                  7                        0                 0   \n",
       "4                  7                        0                 0   \n",
       "\n",
       "   Weather_conditions  Type_of_collision  Number_of_vehicles_involved  \\\n",
       "0                   2                  3                            1   \n",
       "1                   2                  8                            1   \n",
       "2                   2                  2                            1   \n",
       "3                   2                  8                            1   \n",
       "4                   2                  8                            1   \n",
       "\n",
       "   Number_of_casualties  Vehicle_movement  Casualty_class  \\\n",
       "0                     1                 2               3   \n",
       "1                     1                 2               3   \n",
       "2                     1                 2               0   \n",
       "3                     1                 2               2   \n",
       "4                     1                 2               3   \n",
       "\n",
       "   Age_band_of_casualty  Pedestrian_movement  Cause_of_accident  \n",
       "0                     5                    5                  9  \n",
       "1                     5                    5                 16  \n",
       "2                     1                    5                  0  \n",
       "3                     0                    5                  1  \n",
       "4                     5                    5                 16  "
      ]
     },
     "execution_count": 77,
     "metadata": {},
     "output_type": "execute_result"
    }
   ],
   "source": [
    "x.head()"
   ]
  },
  {
   "cell_type": "code",
   "execution_count": 78,
   "id": "b8fa31a8",
   "metadata": {},
   "outputs": [
    {
     "data": {
      "text/html": [
       "<div>\n",
       "<style scoped>\n",
       "    .dataframe tbody tr th:only-of-type {\n",
       "        vertical-align: middle;\n",
       "    }\n",
       "\n",
       "    .dataframe tbody tr th {\n",
       "        vertical-align: top;\n",
       "    }\n",
       "\n",
       "    .dataframe thead th {\n",
       "        text-align: right;\n",
       "    }\n",
       "</style>\n",
       "<table border=\"1\" class=\"dataframe\">\n",
       "  <thead>\n",
       "    <tr style=\"text-align: right;\">\n",
       "      <th></th>\n",
       "      <th>Age_band_of_driver</th>\n",
       "      <th>Driving_experience</th>\n",
       "      <th>Type_of_vehicle</th>\n",
       "      <th>Area_accident_occured</th>\n",
       "      <th>Lanes_or_Medians</th>\n",
       "      <th>Road_allignment</th>\n",
       "      <th>Types_of_Junction</th>\n",
       "      <th>Road_surface_conditions</th>\n",
       "      <th>Light_conditions</th>\n",
       "      <th>Weather_conditions</th>\n",
       "      <th>Type_of_collision</th>\n",
       "      <th>Number_of_vehicles_involved</th>\n",
       "      <th>Number_of_casualties</th>\n",
       "      <th>Vehicle_movement</th>\n",
       "      <th>Casualty_class</th>\n",
       "      <th>Age_band_of_casualty</th>\n",
       "      <th>Pedestrian_movement</th>\n",
       "      <th>Cause_of_accident</th>\n",
       "    </tr>\n",
       "  </thead>\n",
       "  <tbody>\n",
       "    <tr>\n",
       "      <th>0</th>\n",
       "      <td>1</td>\n",
       "      <td>0</td>\n",
       "      <td>0</td>\n",
       "      <td>7</td>\n",
       "      <td>4</td>\n",
       "      <td>5</td>\n",
       "      <td>1</td>\n",
       "      <td>0</td>\n",
       "      <td>3</td>\n",
       "      <td>2</td>\n",
       "      <td>2</td>\n",
       "      <td>1</td>\n",
       "      <td>0</td>\n",
       "      <td>1</td>\n",
       "      <td>2</td>\n",
       "      <td>1</td>\n",
       "      <td>5</td>\n",
       "      <td>0</td>\n",
       "    </tr>\n",
       "    <tr>\n",
       "      <th>1</th>\n",
       "      <td>1</td>\n",
       "      <td>4</td>\n",
       "      <td>14</td>\n",
       "      <td>7</td>\n",
       "      <td>2</td>\n",
       "      <td>5</td>\n",
       "      <td>1</td>\n",
       "      <td>0</td>\n",
       "      <td>3</td>\n",
       "      <td>2</td>\n",
       "      <td>8</td>\n",
       "      <td>1</td>\n",
       "      <td>0</td>\n",
       "      <td>2</td>\n",
       "      <td>0</td>\n",
       "      <td>0</td>\n",
       "      <td>5</td>\n",
       "      <td>16</td>\n",
       "    </tr>\n",
       "    <tr>\n",
       "      <th>2</th>\n",
       "      <td>4</td>\n",
       "      <td>0</td>\n",
       "      <td>7</td>\n",
       "      <td>7</td>\n",
       "      <td>2</td>\n",
       "      <td>5</td>\n",
       "      <td>0</td>\n",
       "      <td>0</td>\n",
       "      <td>0</td>\n",
       "      <td>2</td>\n",
       "      <td>2</td>\n",
       "      <td>1</td>\n",
       "      <td>0</td>\n",
       "      <td>2</td>\n",
       "      <td>0</td>\n",
       "      <td>0</td>\n",
       "      <td>5</td>\n",
       "      <td>3</td>\n",
       "    </tr>\n",
       "    <tr>\n",
       "      <th>3</th>\n",
       "      <td>1</td>\n",
       "      <td>2</td>\n",
       "      <td>9</td>\n",
       "      <td>7</td>\n",
       "      <td>4</td>\n",
       "      <td>5</td>\n",
       "      <td>7</td>\n",
       "      <td>0</td>\n",
       "      <td>0</td>\n",
       "      <td>2</td>\n",
       "      <td>8</td>\n",
       "      <td>1</td>\n",
       "      <td>0</td>\n",
       "      <td>2</td>\n",
       "      <td>0</td>\n",
       "      <td>0</td>\n",
       "      <td>5</td>\n",
       "      <td>1</td>\n",
       "    </tr>\n",
       "    <tr>\n",
       "      <th>4</th>\n",
       "      <td>3</td>\n",
       "      <td>1</td>\n",
       "      <td>0</td>\n",
       "      <td>2</td>\n",
       "      <td>2</td>\n",
       "      <td>5</td>\n",
       "      <td>0</td>\n",
       "      <td>3</td>\n",
       "      <td>3</td>\n",
       "      <td>2</td>\n",
       "      <td>2</td>\n",
       "      <td>3</td>\n",
       "      <td>5</td>\n",
       "      <td>2</td>\n",
       "      <td>0</td>\n",
       "      <td>1</td>\n",
       "      <td>5</td>\n",
       "      <td>12</td>\n",
       "    </tr>\n",
       "  </tbody>\n",
       "</table>\n",
       "</div>"
      ],
      "text/plain": [
       "   Age_band_of_driver  Driving_experience  Type_of_vehicle  \\\n",
       "0                   1                   0                0   \n",
       "1                   1                   4               14   \n",
       "2                   4                   0                7   \n",
       "3                   1                   2                9   \n",
       "4                   3                   1                0   \n",
       "\n",
       "   Area_accident_occured  Lanes_or_Medians  Road_allignment  \\\n",
       "0                      7                 4                5   \n",
       "1                      7                 2                5   \n",
       "2                      7                 2                5   \n",
       "3                      7                 4                5   \n",
       "4                      2                 2                5   \n",
       "\n",
       "   Types_of_Junction  Road_surface_conditions  Light_conditions  \\\n",
       "0                  1                        0                 3   \n",
       "1                  1                        0                 3   \n",
       "2                  0                        0                 0   \n",
       "3                  7                        0                 0   \n",
       "4                  0                        3                 3   \n",
       "\n",
       "   Weather_conditions  Type_of_collision  Number_of_vehicles_involved  \\\n",
       "0                   2                  2                            1   \n",
       "1                   2                  8                            1   \n",
       "2                   2                  2                            1   \n",
       "3                   2                  8                            1   \n",
       "4                   2                  2                            3   \n",
       "\n",
       "   Number_of_casualties  Vehicle_movement  Casualty_class  \\\n",
       "0                     0                 1               2   \n",
       "1                     0                 2               0   \n",
       "2                     0                 2               0   \n",
       "3                     0                 2               0   \n",
       "4                     5                 2               0   \n",
       "\n",
       "   Age_band_of_casualty  Pedestrian_movement  Cause_of_accident  \n",
       "0                     1                    5                  0  \n",
       "1                     0                    5                 16  \n",
       "2                     0                    5                  3  \n",
       "3                     0                    5                  1  \n",
       "4                     1                    5                 12  "
      ]
     },
     "execution_count": 78,
     "metadata": {},
     "output_type": "execute_result"
    }
   ],
   "source": [
    "xtrain.head()"
   ]
  },
  {
   "cell_type": "markdown",
   "id": "41f0aa23",
   "metadata": {},
   "source": [
    "Saving the trained model"
   ]
  },
  {
   "cell_type": "code",
   "execution_count": 79,
   "id": "88cc3f5a",
   "metadata": {},
   "outputs": [],
   "source": [
    "import pickle"
   ]
  },
  {
   "cell_type": "code",
   "execution_count": 80,
   "id": "a85d7663",
   "metadata": {},
   "outputs": [],
   "source": [
    "filename = 'trained_model.sav'\n",
    "pickle.dump(clf, open(filename, 'wb'))"
   ]
  },
  {
   "cell_type": "code",
   "execution_count": 81,
   "id": "1b3f7800",
   "metadata": {},
   "outputs": [],
   "source": [
    "# loading the saved model\n",
    "loaded_model = pickle.load(open('trained_model.sav', 'rb'))"
   ]
  },
  {
   "cell_type": "code",
   "execution_count": 83,
   "id": "4a37db1d",
   "metadata": {},
   "outputs": [
    {
     "name": "stdout",
     "output_type": "stream",
     "text": [
      "[2]\n"
     ]
    }
   ],
   "source": [
    "input_data = (1, 0, 0, 7, 4, 5, 1, 0, 3, 2, 2, 1, 0, 1, 2, 1, 5, 0)\n",
    "input_data_as_numpy_array = np.asarray(input_data)\n",
    "input_data_reshaped = input_data_as_numpy_array.reshape(1, -1)\n",
    "prediction = loaded_model.predict(input_data_reshaped)\n",
    "print(prediction)"
   ]
  },
  {
   "cell_type": "code",
   "execution_count": 82,
   "id": "115d01b3",
   "metadata": {},
   "outputs": [
    {
     "data": {
      "text/plain": [
       "0     2\n",
       "1     1\n",
       "2     1\n",
       "3     2\n",
       "4     1\n",
       "5     2\n",
       "6     2\n",
       "7     2\n",
       "8     2\n",
       "9     2\n",
       "10    2\n",
       "11    0\n",
       "12    2\n",
       "13    2\n",
       "14    2\n",
       "15    2\n",
       "16    2\n",
       "17    2\n",
       "18    2\n",
       "19    2\n",
       "20    2\n",
       "21    2\n",
       "22    2\n",
       "23    1\n",
       "24    2\n",
       "25    2\n",
       "26    2\n",
       "27    2\n",
       "28    2\n",
       "29    2\n",
       "Name: Accident_severity, dtype: int32"
      ]
     },
     "execution_count": 82,
     "metadata": {},
     "output_type": "execute_result"
    }
   ],
   "source": [
    "ytrain.head(30)"
   ]
  },
  {
   "cell_type": "code",
   "execution_count": null,
   "id": "3af12a14",
   "metadata": {},
   "outputs": [],
   "source": []
  }
 ],
 "metadata": {
  "kernelspec": {
   "display_name": "Python 3 (ipykernel)",
   "language": "python",
   "name": "python3"
  },
  "language_info": {
   "codemirror_mode": {
    "name": "ipython",
    "version": 3
   },
   "file_extension": ".py",
   "mimetype": "text/x-python",
   "name": "python",
   "nbconvert_exporter": "python",
   "pygments_lexer": "ipython3",
   "version": "3.6.7"
  }
 },
 "nbformat": 4,
 "nbformat_minor": 5
}
